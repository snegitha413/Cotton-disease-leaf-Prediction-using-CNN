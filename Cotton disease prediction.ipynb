{
  "nbformat": 4,
  "nbformat_minor": 0,
  "metadata": {
    "colab": {
      "name": "cotton.ipynb",
      "provenance": [],
      "collapsed_sections": []
    },
    "kernelspec": {
      "name": "python3",
      "display_name": "Python 3"
    },
    "language_info": {
      "name": "python"
    },
    "accelerator": "TPU"
  },
  "cells": [
    {
      "cell_type": "code",
      "metadata": {
        "id": "EEQZpWTF7FA-"
      },
      "source": [
        "import tensorflow as tf\n",
        "from tensorflow.keras.preprocessing.image import ImageDataGenerator\n",
        "from tensorflow.keras.layers import Conv2D\n",
        "import numpy as np\n",
        "from tensorflow.keras.preprocessing import image"
      ],
      "execution_count": null,
      "outputs": []
    },
    {
      "cell_type": "code",
      "metadata": {
        "colab": {
          "base_uri": "https://localhost:8080/"
        },
        "id": "6_Gbs5RwgU01",
        "outputId": "e4817da9-44b5-4221-9ea0-712e688ab736"
      },
      "source": [
        "from google.colab import drive\n",
        "drive.mount('/content/drive')"
      ],
      "execution_count": null,
      "outputs": [
        {
          "output_type": "stream",
          "name": "stdout",
          "text": [
            "Mounted at /content/drive\n"
          ]
        }
      ]
    },
    {
      "cell_type": "code",
      "metadata": {
        "id": "1b43IJAU7RXE"
      },
      "source": [
        "train_datagen = ImageDataGenerator(rescale = 1./255,\n",
        "                                   shear_range = 0.2,\n",
        "                                   zoom_range = 0.2,\n",
        "                                   horizontal_flip = True)"
      ],
      "execution_count": null,
      "outputs": []
    },
    {
      "cell_type": "code",
      "metadata": {
        "colab": {
          "base_uri": "https://localhost:8080/"
        },
        "id": "j4ziMtjl7SUn",
        "outputId": "c49390ea-1abb-4011-a3f3-98b0bfa6bf92"
      },
      "source": [
        "training_set = train_datagen.flow_from_directory('/content/drive/MyDrive/Cotton Disease/train',\n",
        "                                                 target_size=  (64, 64),\n",
        "                                                 batch_size = 32,\n",
        "                                                 class_mode = 'categorical')\n",
        "\n",
        "# Preprocessing the Test set\n",
        "test_datagen = ImageDataGenerator(rescale = 1./255)\n",
        "test_set = test_datagen.flow_from_directory('/content/drive/MyDrive/Cotton Disease/test',\n",
        "                                            target_size = (64, 64),\n",
        "                                            batch_size = 32,\n",
        "                                            class_mode = 'categorical')"
      ],
      "execution_count": null,
      "outputs": [
        {
          "output_type": "stream",
          "name": "stdout",
          "text": [
            "Found 1951 images belonging to 4 classes.\n",
            "Found 106 images belonging to 4 classes.\n"
          ]
        }
      ]
    },
    {
      "cell_type": "code",
      "metadata": {
        "id": "e3amqABr7WWA"
      },
      "source": [
        "# Initialising the CNN\n",
        "cnn = tf.keras.models.Sequential()\n",
        "\n",
        "# Step 1 - Convolution\n",
        "cnn.add(tf.keras.layers.Conv2D(filters=32,padding=\"same\",kernel_size=3, activation='relu', input_shape=[64, 64, 3]))\n",
        "\n",
        "# Step 2 - Pooling\n",
        "cnn.add(tf.keras.layers.MaxPool2D(pool_size=2, strides=2))\n",
        "\n",
        "# Adding a second convolutional layer\n",
        "cnn.add(tf.keras.layers.Conv2D(filters=32,padding='same',kernel_size=3, activation='relu'))\n",
        "cnn.add(tf.keras.layers.MaxPool2D(pool_size=2, strides=2))\n",
        "\n",
        "# Step 3 - Flattening\n",
        "cnn.add(tf.keras.layers.Flatten())\n",
        "\n",
        "# Step 4 - Full Connection\n",
        "cnn.add(tf.keras.layers.Dense(units=128, activation='relu'))\n",
        "\n",
        "# Step 5 - Output Layer\n",
        "cnn.add(tf.keras.layers.Dense(units=4, activation='softmax')) "
      ],
      "execution_count": null,
      "outputs": []
    },
    {
      "cell_type": "code",
      "metadata": {
        "colab": {
          "base_uri": "https://localhost:8080/"
        },
        "id": "0hi7CTXJ7cPI",
        "outputId": "6440e7bb-1e9e-47b7-a212-bbd09249cd17"
      },
      "source": [
        "cnn.summary()\n"
      ],
      "execution_count": null,
      "outputs": [
        {
          "output_type": "stream",
          "name": "stdout",
          "text": [
            "Model: \"sequential\"\n",
            "_________________________________________________________________\n",
            "Layer (type)                 Output Shape              Param #   \n",
            "=================================================================\n",
            "conv2d (Conv2D)              (None, 64, 64, 32)        896       \n",
            "_________________________________________________________________\n",
            "max_pooling2d (MaxPooling2D) (None, 32, 32, 32)        0         \n",
            "_________________________________________________________________\n",
            "conv2d_1 (Conv2D)            (None, 32, 32, 32)        9248      \n",
            "_________________________________________________________________\n",
            "max_pooling2d_1 (MaxPooling2 (None, 16, 16, 32)        0         \n",
            "_________________________________________________________________\n",
            "flatten (Flatten)            (None, 8192)              0         \n",
            "_________________________________________________________________\n",
            "dense (Dense)                (None, 128)               1048704   \n",
            "_________________________________________________________________\n",
            "dense_1 (Dense)              (None, 4)                 516       \n",
            "=================================================================\n",
            "Total params: 1,059,364\n",
            "Trainable params: 1,059,364\n",
            "Non-trainable params: 0\n",
            "_________________________________________________________________\n"
          ]
        }
      ]
    },
    {
      "cell_type": "code",
      "metadata": {
        "colab": {
          "base_uri": "https://localhost:8080/"
        },
        "id": "qTUUe-Wz7go2",
        "outputId": "fae60eb2-01ec-4926-a265-b37041247265"
      },
      "source": [
        "# Compiling the CNN\n",
        "cnn.compile(optimizer = 'adam',loss = 'categorical_crossentropy', metrics = ['accuracy'])\n",
        "\n",
        "# Training the CNN on the Training set and evaluating it on the Test set\n",
        "cnn.fit(x = training_set, validation_data = test_set, epochs = 25)"
      ],
      "execution_count": null,
      "outputs": [
        {
          "output_type": "stream",
          "name": "stdout",
          "text": [
            "Epoch 1/25\n",
            "61/61 [==============================] - 315s 5s/step - loss: 1.1816 - accuracy: 0.4890 - val_loss: 1.1434 - val_accuracy: 0.5377\n",
            "Epoch 2/25\n",
            "61/61 [==============================] - 30s 484ms/step - loss: 0.9042 - accuracy: 0.6545 - val_loss: 0.8511 - val_accuracy: 0.6226\n",
            "Epoch 3/25\n",
            "61/61 [==============================] - 29s 483ms/step - loss: 0.7198 - accuracy: 0.7273 - val_loss: 0.6790 - val_accuracy: 0.7264\n",
            "Epoch 4/25\n",
            "61/61 [==============================] - 30s 486ms/step - loss: 0.6989 - accuracy: 0.7294 - val_loss: 0.7545 - val_accuracy: 0.6792\n",
            "Epoch 5/25\n",
            "61/61 [==============================] - 29s 482ms/step - loss: 0.6321 - accuracy: 0.7473 - val_loss: 0.8480 - val_accuracy: 0.6509\n",
            "Epoch 6/25\n",
            "61/61 [==============================] - 30s 486ms/step - loss: 0.5293 - accuracy: 0.7996 - val_loss: 0.8790 - val_accuracy: 0.6321\n",
            "Epoch 7/25\n",
            "61/61 [==============================] - 30s 485ms/step - loss: 0.5133 - accuracy: 0.8083 - val_loss: 0.7514 - val_accuracy: 0.6698\n",
            "Epoch 8/25\n",
            "61/61 [==============================] - 30s 484ms/step - loss: 0.4707 - accuracy: 0.8206 - val_loss: 0.4901 - val_accuracy: 0.7925\n",
            "Epoch 9/25\n",
            "61/61 [==============================] - 30s 486ms/step - loss: 0.4780 - accuracy: 0.8186 - val_loss: 0.3633 - val_accuracy: 0.8679\n",
            "Epoch 10/25\n",
            "61/61 [==============================] - 30s 489ms/step - loss: 0.4025 - accuracy: 0.8437 - val_loss: 0.4113 - val_accuracy: 0.8396\n",
            "Epoch 11/25\n",
            "61/61 [==============================] - 30s 483ms/step - loss: 0.3913 - accuracy: 0.8508 - val_loss: 0.7522 - val_accuracy: 0.6981\n",
            "Epoch 12/25\n",
            "61/61 [==============================] - 29s 483ms/step - loss: 0.3902 - accuracy: 0.8503 - val_loss: 0.3760 - val_accuracy: 0.8302\n",
            "Epoch 13/25\n",
            "61/61 [==============================] - 29s 483ms/step - loss: 0.3286 - accuracy: 0.8693 - val_loss: 0.3857 - val_accuracy: 0.8491\n",
            "Epoch 14/25\n",
            "61/61 [==============================] - 29s 482ms/step - loss: 0.3023 - accuracy: 0.8826 - val_loss: 0.4783 - val_accuracy: 0.7547\n",
            "Epoch 15/25\n",
            "61/61 [==============================] - 29s 483ms/step - loss: 0.2756 - accuracy: 0.8877 - val_loss: 0.2737 - val_accuracy: 0.8868\n",
            "Epoch 16/25\n",
            "61/61 [==============================] - 30s 483ms/step - loss: 0.2773 - accuracy: 0.8919 - val_loss: 0.3523 - val_accuracy: 0.8396\n",
            "Epoch 17/25\n",
            "61/61 [==============================] - 29s 483ms/step - loss: 0.2301 - accuracy: 0.9154 - val_loss: 0.2311 - val_accuracy: 0.9151\n",
            "Epoch 18/25\n",
            "61/61 [==============================] - 30s 486ms/step - loss: 0.2576 - accuracy: 0.9016 - val_loss: 0.2407 - val_accuracy: 0.8962\n",
            "Epoch 19/25\n",
            "61/61 [==============================] - 29s 483ms/step - loss: 0.2164 - accuracy: 0.9200 - val_loss: 0.5166 - val_accuracy: 0.8302\n",
            "Epoch 20/25\n",
            "61/61 [==============================] - 30s 485ms/step - loss: 0.2002 - accuracy: 0.9221 - val_loss: 0.4609 - val_accuracy: 0.7736\n",
            "Epoch 21/25\n",
            "61/61 [==============================] - 30s 483ms/step - loss: 0.2254 - accuracy: 0.9124 - val_loss: 0.5084 - val_accuracy: 0.7547\n",
            "Epoch 22/25\n",
            "61/61 [==============================] - 30s 485ms/step - loss: 0.1893 - accuracy: 0.9257 - val_loss: 0.3731 - val_accuracy: 0.8491\n",
            "Epoch 23/25\n",
            "61/61 [==============================] - 29s 483ms/step - loss: 0.1655 - accuracy: 0.9395 - val_loss: 0.2764 - val_accuracy: 0.8868\n",
            "Epoch 24/25\n",
            "61/61 [==============================] - 29s 482ms/step - loss: 0.1689 - accuracy: 0.9303 - val_loss: 0.5175 - val_accuracy: 0.7925\n",
            "Epoch 25/25\n",
            "61/61 [==============================] - 29s 481ms/step - loss: 0.1686 - accuracy: 0.9436 - val_loss: 0.2261 - val_accuracy: 0.9245\n"
          ]
        },
        {
          "output_type": "execute_result",
          "data": {
            "text/plain": [
              "<keras.callbacks.History at 0x7f507f2ea4d0>"
            ]
          },
          "metadata": {},
          "execution_count": 7
        }
      ]
    },
    {
      "cell_type": "code",
      "metadata": {
        "id": "865zv_I77mFx"
      },
      "source": [
        "test_image = image.load_img('/content/drive/MyDrive/Cotton Disease/test/diseased cotton plant/dd (29)_iaip.jpg',\n",
        "                            target_size = (64,64))\n",
        "test_image = image.img_to_array(test_image)\n",
        "test_image=test_image/255\n",
        "test_image = np.expand_dims(test_image, axis = 0)\n",
        "result = cnn.predict(test_image)"
      ],
      "execution_count": null,
      "outputs": []
    },
    {
      "cell_type": "code",
      "metadata": {
        "colab": {
          "base_uri": "https://localhost:8080/"
        },
        "id": "8c33dL0n7p8O",
        "outputId": "9cfe6179-17f7-4dd3-ca75-f33245cb6aad"
      },
      "source": [
        "result"
      ],
      "execution_count": null,
      "outputs": [
        {
          "output_type": "execute_result",
          "data": {
            "text/plain": [
              "array([[2.5659274e-06, 9.7487158e-01, 1.8270639e-07, 2.5125667e-02]],\n",
              "      dtype=float32)"
            ]
          },
          "metadata": {},
          "execution_count": 18
        }
      ]
    },
    {
      "cell_type": "code",
      "metadata": {
        "id": "qg9MfJGP7vmn"
      },
      "source": [
        "result = result.ravel() \n"
      ],
      "execution_count": null,
      "outputs": []
    },
    {
      "cell_type": "code",
      "metadata": {
        "colab": {
          "base_uri": "https://localhost:8080/"
        },
        "id": "Z4Dpu2ij7ygM",
        "outputId": "e5983eb8-5a62-4f9f-a554-17bc6bffca1a"
      },
      "source": [
        "result"
      ],
      "execution_count": null,
      "outputs": [
        {
          "output_type": "execute_result",
          "data": {
            "text/plain": [
              "array([2.5659274e-06, 9.7487158e-01, 1.8270639e-07, 2.5125667e-02],\n",
              "      dtype=float32)"
            ]
          },
          "metadata": {},
          "execution_count": 20
        }
      ]
    },
    {
      "cell_type": "code",
      "metadata": {
        "colab": {
          "base_uri": "https://localhost:8080/"
        },
        "id": "QcxnjvRU74ep",
        "outputId": "f16fa27f-35f5-495a-b76a-5b8fc1d044f5"
      },
      "source": [
        "n = len(result)\n",
        "def largest(arr,n):\n",
        "  \n",
        "    # Initialize maximum element\n",
        "    max = arr[0]\n",
        "  \n",
        "    # Traverse array elements from second\n",
        "    # and compare every element with \n",
        "    # current max\n",
        "    for i in range(1, n):\n",
        "        if arr[i] > max:\n",
        "            max = arr[i]\n",
        "    return max\n",
        "ans=largest(result,n)\n",
        "print (\"Largest in given array is\",ans)\n"
      ],
      "execution_count": null,
      "outputs": [
        {
          "output_type": "stream",
          "name": "stdout",
          "text": [
            "Largest in given array is 0.9748716\n"
          ]
        }
      ]
    },
    {
      "cell_type": "code",
      "metadata": {
        "colab": {
          "base_uri": "https://localhost:8080/"
        },
        "id": "r44WsTJN75Zc",
        "outputId": "cf47901d-b67e-49a1-83c2-1edf657a5ec2"
      },
      "source": [
        "result.sort\n",
        "result "
      ],
      "execution_count": null,
      "outputs": [
        {
          "output_type": "execute_result",
          "data": {
            "text/plain": [
              "array([2.5659274e-06, 9.7487158e-01, 1.8270639e-07, 2.5125667e-02],\n",
              "      dtype=float32)"
            ]
          },
          "metadata": {},
          "execution_count": 22
        }
      ]
    },
    {
      "cell_type": "code",
      "metadata": {
        "id": "0Lv3j1L2785w"
      },
      "source": [
        "result=result.tolist() "
      ],
      "execution_count": null,
      "outputs": []
    },
    {
      "cell_type": "code",
      "metadata": {
        "id": "SwwAnv1l8Avl"
      },
      "source": [
        "import numpy as np\n",
        "result1=[\"diseased_leaf\",\"diseased_plant\",\"fresh_leaf\",\"fresh_plant\"]\n"
      ],
      "execution_count": null,
      "outputs": []
    },
    {
      "cell_type": "code",
      "metadata": {
        "colab": {
          "base_uri": "https://localhost:8080/"
        },
        "id": "uDCr4utO8C4R",
        "outputId": "5674a8ed-8eb3-4513-892d-91702789152b"
      },
      "source": [
        "\n",
        "index = np.argmax(result)\n",
        "print(index)\n",
        " \n",
        "print(\"Largest element present in given array: \" +str(ans)+\" And it belongs to \" +str(result1[index]) +\" class.\");      \n"
      ],
      "execution_count": null,
      "outputs": [
        {
          "output_type": "stream",
          "name": "stdout",
          "text": [
            "1\n",
            "Largest element present in given array: 0.9748716 And it belongs to diseased_plant class.\n"
          ]
        }
      ]
    }
  ]
}